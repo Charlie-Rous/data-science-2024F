{
 "cells": [
  {
   "cell_type": "code",
   "execution_count": 8,
   "metadata": {},
   "outputs": [],
   "source": [
    "import random\n"
   ]
  },
  {
   "cell_type": "markdown",
   "metadata": {},
   "source": [
    "# Create word list from text file\n"
   ]
  },
  {
   "cell_type": "code",
   "execution_count": 1,
   "metadata": {},
   "outputs": [],
   "source": [
    "word_list = []\n",
    "\n",
    "with open('moby.txt', 'r') as moby_txt:\n",
    "    lines = moby_txt.readlines()\n",
    "\n",
    "    for line in lines:\n",
    "        for word in line.split():\n",
    "            word_list.append( word.lower())\n"
   ]
  },
  {
   "cell_type": "markdown",
   "metadata": {},
   "source": [
    "# Define words after dict\n"
   ]
  },
  {
   "cell_type": "code",
   "execution_count": 3,
   "metadata": {},
   "outputs": [],
   "source": [
    "words_after = {}\n",
    "\n",
    "for i in range(len(word_list) - 1):\n",
    "    word = word_list[i]\n",
    "    next_word = word_list[i+1]\n",
    "    if word not in words_after:\n",
    "        words_after.update({word: [next_word]})\n",
    "    else:\n",
    "        words_after[word].append(next_word)\n",
    "\n"
   ]
  },
  {
   "cell_type": "markdown",
   "metadata": {},
   "source": [
    "# Define sentence builder"
   ]
  },
  {
   "cell_type": "code",
   "execution_count": 4,
   "metadata": {},
   "outputs": [],
   "source": [
    "def build_sentence(word: str, num_words: int):\n",
    "    sentence = word.capitalize()\n",
    "    current_word = word\n",
    "    for i in range (num_words - 1):\n",
    "        if current_word in words_after and len(words_after[current_word]) != 0 :\n",
    "            next_word = random.choice(words_after[current_word])\n",
    "            if current_word[-1] == '.':\n",
    "                sentence += ' ' + next_word.capitalize()\n",
    "            else:\n",
    "                sentence += ' ' + next_word\n",
    "\n",
    "            current_word = next_word\n",
    "        else:\n",
    "            break\n",
    "    sentence += '.'\n",
    "    return sentence\n",
    "\n"
   ]
  },
  {
   "cell_type": "markdown",
   "metadata": {},
   "source": [
    "# Take Input\n"
   ]
  },
  {
   "cell_type": "code",
   "execution_count": 5,
   "metadata": {},
   "outputs": [],
   "source": [
    "word = input('Give me a word').lower()\n",
    "number = int(input('Give me a number of words'))"
   ]
  },
  {
   "cell_type": "code",
   "execution_count": 11,
   "metadata": {},
   "outputs": [
    {
     "name": "stdout",
     "output_type": "stream",
     "text": [
      "Water and alcoves. Besides, from before i declare it was inlaying, in casks, but the lee of the plate; and lances from intelligence from which they meant to some were his. Besides, all the blue tranquil tropics, and, mid winter.\n",
      "40 words\n"
     ]
    }
   ],
   "source": [
    "sentence = build_sentence(word, number)\n",
    "print(build_sentence(word, number))\n",
    "print(len(sentence.split()), 'words')"
   ]
  }
 ],
 "metadata": {
  "kernelspec": {
   "display_name": "Python 3",
   "language": "python",
   "name": "python3"
  },
  "language_info": {
   "codemirror_mode": {
    "name": "ipython",
    "version": 3
   },
   "file_extension": ".py",
   "mimetype": "text/x-python",
   "name": "python",
   "nbconvert_exporter": "python",
   "pygments_lexer": "ipython3",
   "version": "3.12.1"
  }
 },
 "nbformat": 4,
 "nbformat_minor": 2
}
