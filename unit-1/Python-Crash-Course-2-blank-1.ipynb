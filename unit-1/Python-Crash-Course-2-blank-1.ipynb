{
 "cells": [
  {
   "cell_type": "markdown",
   "id": "5fe32e27",
   "metadata": {},
   "source": [
    "# Python Crash Course 2!\n",
    "***\n",
    "\n",
    "- Booleans\n",
    "- Lists\n",
    "- Tuples & Sets\n",
    "- Dictionaries\n",
    "- Conditionals\n",
    "- Loops\n",
    "- Functions & Parameters\n",
    "- List comprehension\n",
    "\n",
    "## Booleans\n",
    "\n",
    "Write a simple mathematial expression and verify that its output is a Boolean."
   ]
  },
  {
   "cell_type": "code",
   "execution_count": 1,
   "id": "0d2623c1",
   "metadata": {},
   "outputs": [
    {
     "name": "stdout",
     "output_type": "stream",
     "text": [
      "<class 'bool'>\n"
     ]
    }
   ],
   "source": [
    "a = 5 > 10\n",
    "print(type(a))"
   ]
  },
  {
   "cell_type": "markdown",
   "id": "1ea45ba1",
   "metadata": {},
   "source": [
    "## Operators\n",
    "\n",
    "Read thru https://www.w3schools.com/python/python_operators.asp\n",
    "\n",
    "Create a variable to store your age, then use the appropriate assignment operator to add 4 to it, and output to verify:"
   ]
  },
  {
   "cell_type": "code",
   "execution_count": 2,
   "id": "721ecdd5",
   "metadata": {},
   "outputs": [
    {
     "data": {
      "text/plain": [
       "21"
      ]
     },
     "execution_count": 2,
     "metadata": {},
     "output_type": "execute_result"
    }
   ],
   "source": [
    "age = 17\n",
    "age += 4\n",
    "age"
   ]
  },
  {
   "cell_type": "markdown",
   "id": "2004bb6e",
   "metadata": {},
   "source": [
    "Verify that your age is not now 12 by using a comparision operator and outputting a Boolean value:"
   ]
  },
  {
   "cell_type": "code",
   "execution_count": 3,
   "id": "b7879a94",
   "metadata": {},
   "outputs": [
    {
     "data": {
      "text/plain": [
       "False"
      ]
     },
     "execution_count": 3,
     "metadata": {},
     "output_type": "execute_result"
    }
   ],
   "source": [
    "age == 12"
   ]
  },
  {
   "cell_type": "markdown",
   "id": "3120cc27",
   "metadata": {},
   "source": [
    "Use a logical operator to verify that your age is between 12 and 24:"
   ]
  },
  {
   "cell_type": "code",
   "execution_count": 4,
   "id": "cd33c75d",
   "metadata": {},
   "outputs": [
    {
     "data": {
      "text/plain": [
       "True"
      ]
     },
     "execution_count": 4,
     "metadata": {},
     "output_type": "execute_result"
    }
   ],
   "source": [
    "age >= 12 and age <= 24"
   ]
  },
  {
   "cell_type": "markdown",
   "id": "f1c0176b",
   "metadata": {},
   "source": [
    "## Collections\n",
    "There are 4 types of collections (arrays) in Python:\n",
    "\n",
    "- List: a collection which is ordered and changeable. Allows duplicate members.\n",
    "- Tuple: a collection which is ordered and unchangeable. Allows duplicate members.\n",
    "- Set: a collection which is unordered, unchangeable*, and unindexed. No duplicate members.\n",
    "- Dictionary\n",
    "\n",
    "## Lists\n",
    "\n",
    "We are going to need to know a lot about lists! They are probably the most useful type of collection.\n",
    "\n",
    "Create a list that stores the names of the courses you are currently taking. Output the list to verify:"
   ]
  },
  {
   "cell_type": "code",
   "execution_count": 15,
   "id": "91d7c8b9",
   "metadata": {},
   "outputs": [
    {
     "data": {
      "text/plain": [
       "['Multi-Variabel Calculus',\n",
       " 'English Literature',\n",
       " 'Data Science',\n",
       " 'Physics E & M',\n",
       " '2D Studio Art',\n",
       " 'Statistics',\n",
       " 'Linear Algebra']"
      ]
     },
     "execution_count": 15,
     "metadata": {},
     "output_type": "execute_result"
    }
   ],
   "source": [
    "classes =['Multi-Variabel Calculus', 'English Literature', 'Data Science', 'Physics E & M', '2D Studio Art', 'Statistics', 'Linear Algebra']\n",
    "classes"
   ]
  },
  {
   "cell_type": "markdown",
   "id": "837a3ad6",
   "metadata": {},
   "source": [
    "### Accessing Items\n",
    "\n",
    "Print the second item from your list:"
   ]
  },
  {
   "cell_type": "code",
   "execution_count": 16,
   "id": "13316412",
   "metadata": {},
   "outputs": [
    {
     "data": {
      "text/plain": [
       "'English Literature'"
      ]
     },
     "execution_count": 16,
     "metadata": {},
     "output_type": "execute_result"
    }
   ],
   "source": [
    "classes[1]"
   ]
  },
  {
   "cell_type": "markdown",
   "id": "9d2b1ea2",
   "metadata": {},
   "source": [
    "### Changing Items\n",
    "\n",
    "Change one of the courses in the list and output to verify:"
   ]
  },
  {
   "cell_type": "code",
   "execution_count": 17,
   "id": "e661bae8",
   "metadata": {},
   "outputs": [
    {
     "data": {
      "text/plain": [
       "['Multi-Variabel Calculus',\n",
       " 'SIC',\n",
       " 'Data Science',\n",
       " 'Physics E & M',\n",
       " '2D Studio Art',\n",
       " 'Statistics',\n",
       " 'Linear Algebra']"
      ]
     },
     "execution_count": 17,
     "metadata": {},
     "output_type": "execute_result"
    }
   ],
   "source": [
    "classes[1] = 'SIC'\n",
    "classes"
   ]
  },
  {
   "cell_type": "markdown",
   "id": "d0ff42bd",
   "metadata": {},
   "source": [
    "### Accessing a Range of Items\n",
    "\n",
    "Print the first two courses, using a range of indices:"
   ]
  },
  {
   "cell_type": "code",
   "execution_count": 18,
   "id": "235443d1",
   "metadata": {},
   "outputs": [
    {
     "name": "stdout",
     "output_type": "stream",
     "text": [
      "['Multi-Variabel Calculus', 'SIC']\n"
     ]
    }
   ],
   "source": [
    "print(classes[:2])"
   ]
  },
  {
   "cell_type": "markdown",
   "id": "d4e7abc8",
   "metadata": {},
   "source": [
    "### Adding to a List\n",
    "\n",
    "Add a course to the end of your list safely (i.e., do not use an index), and verify:"
   ]
  },
  {
   "cell_type": "code",
   "execution_count": 19,
   "id": "fd1e0f8c",
   "metadata": {},
   "outputs": [
    {
     "data": {
      "text/plain": [
       "['Multi-Variabel Calculus',\n",
       " 'SIC',\n",
       " 'Data Science',\n",
       " 'Physics E & M',\n",
       " '2D Studio Art',\n",
       " 'Statistics',\n",
       " 'Linear Algebra',\n",
       " 'history']"
      ]
     },
     "execution_count": 19,
     "metadata": {},
     "output_type": "execute_result"
    }
   ],
   "source": [
    "classes.append('history')\n",
    "classes"
   ]
  },
  {
   "cell_type": "markdown",
   "id": "ca78beb9",
   "metadata": {},
   "source": [
    "### Inserting into a List\n",
    "\n",
    "Insert a course into the third position and then remove the first course in the list, and verify:"
   ]
  },
  {
   "cell_type": "code",
   "execution_count": 20,
   "id": "65f441a4",
   "metadata": {},
   "outputs": [
    {
     "data": {
      "text/plain": [
       "['SIC',\n",
       " 'Spanish',\n",
       " 'Data Science',\n",
       " 'Physics E & M',\n",
       " '2D Studio Art',\n",
       " 'Statistics',\n",
       " 'Linear Algebra',\n",
       " 'history']"
      ]
     },
     "execution_count": 20,
     "metadata": {},
     "output_type": "execute_result"
    }
   ],
   "source": [
    "classes.insert(2,'Spanish')\n",
    "classes.remove(classes[0])\n",
    "classes"
   ]
  },
  {
   "cell_type": "markdown",
   "id": "2f4d03df",
   "metadata": {},
   "source": [
    "### List Looping\n",
    "\n",
    "Use a \"standard\" loop without indices to print each course on its own line:"
   ]
  },
  {
   "cell_type": "code",
   "execution_count": 21,
   "id": "62ca30fd",
   "metadata": {},
   "outputs": [
    {
     "name": "stdout",
     "output_type": "stream",
     "text": [
      "SIC\n",
      "Spanish\n",
      "Data Science\n",
      "Physics E & M\n",
      "2D Studio Art\n",
      "Statistics\n",
      "Linear Algebra\n",
      "history\n"
     ]
    }
   ],
   "source": [
    "for c in classes:\n",
    "    print(c)"
   ]
  },
  {
   "cell_type": "markdown",
   "id": "5400379e",
   "metadata": {},
   "source": [
    "### Sorting a List\n",
    "\n",
    "Sort the list and output to verify:\n",
    "\n",
    "*Note: the sort() method operates on the list, it does not return a new list. This is important!*"
   ]
  },
  {
   "cell_type": "code",
   "execution_count": 23,
   "id": "891c47c7",
   "metadata": {},
   "outputs": [
    {
     "name": "stdout",
     "output_type": "stream",
     "text": [
      "['2D Studio Art', 'Data Science', 'Linear Algebra', 'Physics E & M', 'SIC', 'Spanish', 'Statistics', 'history']\n"
     ]
    }
   ],
   "source": [
    "classes.sort()\n",
    "print(classes)"
   ]
  },
  {
   "cell_type": "markdown",
   "id": "27599d33",
   "metadata": {},
   "source": [
    "### Copying a List\n",
    "\n",
    "Read https://www.w3schools.com/python/python_lists_copy.asp and understand way list2 = list1 does not copy list1.\n",
    "\n",
    "Demonstrate by making a copy of your course list, modify an item in the copy, and output both lists to verify that only one was changed:"
   ]
  },
  {
   "cell_type": "code",
   "execution_count": 26,
   "id": "56e1663a",
   "metadata": {},
   "outputs": [
    {
     "name": "stdout",
     "output_type": "stream",
     "text": [
      "['2D Studio Art', 'Data Science', 'Linear Algebra', 'Physics E & M', 'SIC', 'Spanish', 'Statistics', 'history', 'test']\n",
      "['2D Studio Art', 'Data Science', 'Linear Algebra', 'Physics E & M', 'SIC', 'Spanish', 'Statistics', 'history', 'test', 'test']\n"
     ]
    }
   ],
   "source": [
    "list2 = classes.copy()\n",
    "list2.append('test')\n",
    "print(classes)\n",
    "print(list2)"
   ]
  },
  {
   "cell_type": "markdown",
   "id": "3272303b",
   "metadata": {},
   "source": [
    "### Other List Methods\n",
    "\n",
    "Take a look at https://www.w3schools.com/python/python_lists_methods.asp and choose a list method we have not used, and demonstrate its use with your course list:"
   ]
  },
  {
   "cell_type": "code",
   "execution_count": 27,
   "id": "f787b714",
   "metadata": {},
   "outputs": [
    {
     "name": "stdout",
     "output_type": "stream",
     "text": [
      "[]\n"
     ]
    }
   ],
   "source": [
    "classes.clear()\n",
    "print(classes)"
   ]
  },
  {
   "cell_type": "markdown",
   "id": "368b2d43",
   "metadata": {},
   "source": [
    "## Tuples\n",
    "\n",
    "Tuples are just like lists, but they cannot change after they are created. They use ( ) instead of [ ]\n",
    "\n",
    "Tuples are more memory efficient than lists since the computer knows the items won't change. So, use a tuple when you have an ordered list that won't change.\n",
    "\n",
    "A tuple can store duplicate items and items of various data types.\n",
    "\n",
    "Here's a good example of when a tuple might make sense:"
   ]
  },
  {
   "cell_type": "code",
   "execution_count": 30,
   "id": "16042b17",
   "metadata": {},
   "outputs": [],
   "source": [
    "days_of_week = ('Sunday', 'Monday', 'Tuesday', 'Wednesday', 'Thursday', 'Friday', 'Saturday')"
   ]
  },
  {
   "cell_type": "markdown",
   "id": "dd935e83",
   "metadata": {},
   "source": [
    "Using the same accessor syntax as lists, print out the weekdays using the above tuple:"
   ]
  },
  {
   "cell_type": "code",
   "execution_count": 31,
   "id": "bf537f65",
   "metadata": {},
   "outputs": [
    {
     "name": "stdout",
     "output_type": "stream",
     "text": [
      "('Monday', 'Tuesday', 'Wednesday', 'Thursday', 'Friday')\n"
     ]
    }
   ],
   "source": [
    "print(days_of_week[1:6])"
   ]
  },
  {
   "cell_type": "markdown",
   "id": "62e5232c",
   "metadata": {},
   "source": [
    "Many other tuple operations (looping, methods) are identical to lists.\n",
    "\n",
    "## Sets\n",
    "\n",
    "Sets are unindexed and cannot contain duplicates. That means there is no way to control the order of items in a set. Sets use { } notation. Since there are no indices, you will not see [ ] with sets.\n",
    "\n",
    "Add an item to the following set, loop through it to print each item, then write an expression to verify that the set contains \"banana\":"
   ]
  },
  {
   "cell_type": "code",
   "execution_count": 33,
   "id": "4e3c889a",
   "metadata": {},
   "outputs": [],
   "source": [
    "types_of_fruit = {\"apple\", \"banana\", \"cherry\"}"
   ]
  },
  {
   "cell_type": "code",
   "execution_count": 35,
   "id": "e99fd04f",
   "metadata": {},
   "outputs": [
    {
     "name": "stdout",
     "output_type": "stream",
     "text": [
      "banana\n",
      "cherry\n",
      "apple\n",
      "True\n"
     ]
    }
   ],
   "source": [
    "for fruit in types_of_fruit:\n",
    "    print(fruit)\n",
    "print('banana' in types_of_fruit)"
   ]
  },
  {
   "cell_type": "markdown",
   "id": "fd28ed78",
   "metadata": {},
   "source": [
    "## Dictionaries\n",
    "\n",
    "A dictionary in Python is a group of key/value pairs. (It looks a lot like a JSON object in JavaScript).\n",
    "\n",
    "The keys serve as the indices. Therefore, you cannot have duplicate keys in a dictionary.\n",
    "\n",
    "Using the following dictionary, print car1's model:"
   ]
  },
  {
   "cell_type": "code",
   "execution_count": 36,
   "id": "622bf000",
   "metadata": {},
   "outputs": [],
   "source": [
    "car1 = {\n",
    "  \"brand\": \"Ford\",\n",
    "  \"model\": \"Mustang\",\n",
    "  \"year\": 1964\n",
    "}"
   ]
  },
  {
   "cell_type": "code",
   "execution_count": 37,
   "id": "e90dce9f",
   "metadata": {},
   "outputs": [
    {
     "name": "stdout",
     "output_type": "stream",
     "text": [
      "Mustang\n"
     ]
    }
   ],
   "source": [
    "print(car1['model'])"
   ]
  },
  {
   "cell_type": "markdown",
   "id": "43afcc23",
   "metadata": {},
   "source": [
    "Now add a new key/value to the car1 dictionary and verify with output:"
   ]
  },
  {
   "cell_type": "code",
   "execution_count": 38,
   "id": "21c9f8c3",
   "metadata": {},
   "outputs": [
    {
     "name": "stdout",
     "output_type": "stream",
     "text": [
      "red\n"
     ]
    }
   ],
   "source": [
    "car1.update({'color': 'red'})\n",
    "print(car1['color'])"
   ]
  },
  {
   "cell_type": "markdown",
   "id": "2dcb0140",
   "metadata": {},
   "source": [
    "### Looping thru Dictionaries\n",
    "\n",
    "There are several ways to loop through the keys and values of a dictionary. See https://www.w3schools.com/python/python_dictionaries_loop.asp\n",
    "\n",
    "Print all the keys of car1, then print all the values. "
   ]
  },
  {
   "cell_type": "code",
   "execution_count": 39,
   "id": "364b3170",
   "metadata": {},
   "outputs": [
    {
     "name": "stdout",
     "output_type": "stream",
     "text": [
      "brand\n",
      "model\n",
      "year\n",
      "color\n",
      "Ford\n",
      "Mustang\n",
      "1964\n",
      "red\n"
     ]
    }
   ],
   "source": [
    "for x in car1:\n",
    "    print (x)\n",
    "for x in car1:\n",
    "    print(car1[x])"
   ]
  },
  {
   "cell_type": "markdown",
   "id": "9f7d7498",
   "metadata": {},
   "source": [
    "Now use .items() in a loop to retrieve both the keys and values:"
   ]
  },
  {
   "cell_type": "code",
   "execution_count": 40,
   "id": "4473c74e",
   "metadata": {},
   "outputs": [
    {
     "data": {
      "text/plain": [
       "dict_items([('brand', 'Ford'), ('model', 'Mustang'), ('year', 1964), ('color', 'red')])"
      ]
     },
     "execution_count": 40,
     "metadata": {},
     "output_type": "execute_result"
    }
   ],
   "source": [
    "car1.items()"
   ]
  },
  {
   "cell_type": "markdown",
   "id": "15b0fbfa",
   "metadata": {},
   "source": [
    "## Loops\n",
    "\n",
    "We've already seen for loops used to iterate through lists, strings, etc. If you simply need to repeat something a specific number of times, use range().\n",
    "\n",
    "Use range() in a for loop to print all numbers that are teens:"
   ]
  },
  {
   "cell_type": "code",
   "execution_count": 42,
   "id": "5c480568",
   "metadata": {},
   "outputs": [
    {
     "name": "stdout",
     "output_type": "stream",
     "text": [
      "10\n",
      "11\n",
      "12\n",
      "13\n",
      "14\n",
      "15\n",
      "16\n",
      "17\n",
      "18\n",
      "19\n"
     ]
    }
   ],
   "source": [
    "for i in range(10,20):\n",
    "    print (i)"
   ]
  },
  {
   "cell_type": "markdown",
   "id": "3752d2c1",
   "metadata": {},
   "source": [
    "## Conditionals\n",
    "\n",
    "You should be familiar with if/elseif/else statements from JavaScript. They are similar in Python, with some different syntax. Note that the indentation is critical!\n",
    "\n",
    "Given the following variable, write a conditional statement that print \"B\" is the grade is between 80 and 90 and \"A\" if the grade is 90 or greater."
   ]
  },
  {
   "cell_type": "code",
   "execution_count": 48,
   "id": "c6612214",
   "metadata": {},
   "outputs": [
    {
     "name": "stdout",
     "output_type": "stream",
     "text": [
      "fail\n"
     ]
    }
   ],
   "source": [
    "# change this value to test it\n",
    "grade = 79\n",
    "\n",
    "print('A' if grade >= 90 else ('B' if grade >= 80 else 'fail'))\n"
   ]
  },
  {
   "cell_type": "markdown",
   "id": "a6d33145",
   "metadata": {},
   "source": [
    "Can you write your conditional on a single line?"
   ]
  },
  {
   "cell_type": "code",
   "execution_count": 49,
   "id": "e64f6078",
   "metadata": {},
   "outputs": [],
   "source": [
    "#already did"
   ]
  },
  {
   "cell_type": "markdown",
   "id": "19e9f1a3",
   "metadata": {},
   "source": [
    "## Functions\n",
    "\n",
    "Functions in Python are very similar to JavaScript. They are declared, called, and can take parameters.\n",
    "\n",
    "A major difference is that you cannot call a Python function until it is defined. (In JavaScript, you can put a definition anywhere in a script; this is called \"hoisting\". There is no hoisting in Python.\n",
    "\n",
    "Python functions can perform a task, or return a value, just like JavaScript.\n",
    "\n",
    "Define a function called \"changer\" that accepts an integer, divides it by 2, rounds down (aka floor division), adds 7, and returns the result. Test it!"
   ]
  },
  {
   "cell_type": "code",
   "execution_count": 51,
   "id": "189b6ed2",
   "metadata": {},
   "outputs": [
    {
     "data": {
      "text/plain": [
       "10"
      ]
     },
     "execution_count": 51,
     "metadata": {},
     "output_type": "execute_result"
    }
   ],
   "source": [
    "def changer(num: int):\n",
    "    num = num // 2\n",
    "    num += 7\n",
    "    return num\n",
    "\n",
    "changer(7)\n"
   ]
  },
  {
   "cell_type": "markdown",
   "id": "2fd3e331",
   "metadata": {},
   "source": [
    "Parameters are sometimes called arguments. Take a look at the explanations of how Python can accept arguments on this page: https://www.w3schools.com/python/python_functions.asp\n",
    "\n",
    "We probably won't define functions with arbitrary arguments or arbitrary keyword arguments, but we will call functions that accept these so it's good to know what this code would do:\n",
    "\n",
    "someFunction(name=\"Bob\", age=32)"
   ]
  }
 ],
 "metadata": {
  "kernelspec": {
   "display_name": "Python 3 (ipykernel)",
   "language": "python",
   "name": "python3"
  },
  "language_info": {
   "codemirror_mode": {
    "name": "ipython",
    "version": 3
   },
   "file_extension": ".py",
   "mimetype": "text/x-python",
   "name": "python",
   "nbconvert_exporter": "python",
   "pygments_lexer": "ipython3",
   "version": "3.12.1"
  }
 },
 "nbformat": 4,
 "nbformat_minor": 5
}
