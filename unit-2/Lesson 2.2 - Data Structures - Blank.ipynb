{
 "cells": [
  {
   "cell_type": "markdown",
   "id": "a3a28689",
   "metadata": {},
   "source": [
    "# Data Science Lesson - Data Structures\n",
    "---\n",
    "**Question: How do we represent our Stick Figure Google Sheet (table) in a Python variable?**\n",
    "\n",
    "### List of Dictionaries\n",
    "\n",
    "Represent each person as a dictionary, and stote them all in a list. Output the list to verify."
   ]
  },
  {
   "cell_type": "code",
   "execution_count": 2,
   "id": "46d98ee3",
   "metadata": {},
   "outputs": [],
   "source": [
    "emerson = {'Name': 'Emerson', 'Height': 65, 'GPA': 3.06, 'Friends': 213, 'Sport': 'soccer', 'Shoes': 'sneakers'}\n",
    "jessie = {'Name': 'Jessie', 'Height': 61, 'GPA': 2.41, 'Friends': 202, 'Sport': 'basketball', 'Shoes': 'flip-flops'}\n",
    "sawyer = {'Name': 'Sawyer', 'Height': 67, 'GPA': 2.96, 'Friends': 314, 'Sport': 'tennis', 'Shoes': 'flip-flops'}\n",
    "london = {'Name': 'London', 'Height': 64, 'GPA': 3.98, 'Friends': 436, 'Sport': 'soccer', 'Shoes': 'sneakers'}\n",
    "dakota = {'Name': 'Dakota', 'Height': 72, 'GPA': 3.15, 'Friends': 307, 'Sport': 'basketball', 'Shoes': 'sneakers'}\n",
    "hayden = {'Name': 'Hayden', 'Height': 68, 'GPA': 3.5, 'Friends': 335, 'Sport': 'tennis', 'Shoes': 'flip-flops'}\n",
    "charlie = {'Name': 'Charlie', 'Height': 61, 'GPA': 1.1, 'Friends': 35, 'Sport': 'baseball', 'Shoes': 'flip-flops'}\n",
    "kamryn = {'Name': 'Kamryn', 'Height': 66, 'GPA': 2.18, 'Friends': 200, 'Sport': 'soccer', 'Shoes': 'sneakers'}\n",
    "\n",
    "stick_figures = [emerson, jessie, sawyer, london, dakota, hayden, charlie, kamryn]"
   ]
  },
  {
   "cell_type": "markdown",
   "id": "9dee2d16",
   "metadata": {},
   "source": [
    "What is the mean height of people in our list? First, use pure Python functions (not the statistics module) to calculate this, and output to verify.\n",
    "\n",
    "*Hint: You may want to put all the heights in a list and then use that for your computations.*"
   ]
  },
  {
   "cell_type": "code",
   "execution_count": 4,
   "id": "3525da44",
   "metadata": {},
   "outputs": [
    {
     "data": {
      "text/plain": [
       "65.5"
      ]
     },
     "execution_count": 4,
     "metadata": {},
     "output_type": "execute_result"
    }
   ],
   "source": [
    "total = sum([i['Height'] for i in stick_figures])\n",
    "average = total / len(stick_figures)\n",
    "average"
   ]
  },
  {
   "cell_type": "markdown",
   "id": "bcf0f231",
   "metadata": {},
   "source": [
    "Now, import NumPy (as np) and use its mean function to find the mean of the heights list directly."
   ]
  },
  {
   "cell_type": "code",
   "execution_count": 6,
   "id": "dac4edc5",
   "metadata": {},
   "outputs": [
    {
     "data": {
      "text/plain": [
       "np.float64(65.5)"
      ]
     },
     "execution_count": 6,
     "metadata": {},
     "output_type": "execute_result"
    }
   ],
   "source": [
    "import numpy as np\n",
    "\n",
    "heights = [i['Height'] for i in stick_figures]\n",
    "np.mean(heights)"
   ]
  },
  {
   "cell_type": "markdown",
   "id": "25f72f93",
   "metadata": {},
   "source": [
    "## Dictionary of Lists\n",
    "\n",
    "Using a dictionary and key/value pairs, represent each attribute (column) of a person as a key and all the values of each attribute as a list. That is, a dictionary of lists. Output the dict to verify."
   ]
  },
  {
   "cell_type": "code",
   "execution_count": 7,
   "id": "d5dca641",
   "metadata": {},
   "outputs": [
    {
     "name": "stdout",
     "output_type": "stream",
     "text": [
      "{'Name': ['Dakota', 'Hayden', 'Charlie', 'Kamryn', 'Emerson', 'Jessie', 'Sawyer', 'London'], 'Height': [72, 68, 61, 66, 65, 61, 67, 64], 'GPA': [3.15, 3.5, 1.1, 2.18, 3.06, 2.41, 2.96, 3.98], 'Friends': [307, 335, 34, 200, 213, 202, 314, 436], 'Sport': ['basketball', 'tennis', 'baseball', 'soccer', 'soccer', 'basketball', 'tennis', 'soccer'], 'Shoes': ['sneakers', 'flip-flops', 'flip-flops', 'sneakers', 'sneakers', 'flip-flops', 'flip-flops', 'sneakers']}\n"
     ]
    }
   ],
   "source": [
    "stick_figures_2 = {'Name': ['Dakota','Hayden', 'Charlie', 'Kamryn', 'Emerson','Jessie','Sawyer','London'],\n",
    "                    'Height': [72,68,61,66,65,61,67,64], \n",
    "                    'GPA': [3.15,3.5,1.1,2.18,3.06,2.41,2.96,3.98], \n",
    "                    'Friends': [307,335,34,200,213,202,314,436], \n",
    "                    'Sport': ['basketball','tennis','baseball','soccer','soccer','basketball','tennis','soccer'], \n",
    "                    'Shoes': ['sneakers','flip-flops','flip-flops','sneakers','sneakers','flip-flops','flip-flops','sneakers']}\n",
    "\n",
    "print(stick_figures_2)"
   ]
  },
  {
   "cell_type": "markdown",
   "id": "846bdc27",
   "metadata": {},
   "source": [
    "Now use NumPy to get the mean in one statement."
   ]
  },
  {
   "cell_type": "code",
   "execution_count": 8,
   "id": "898bb3cd",
   "metadata": {},
   "outputs": [
    {
     "data": {
      "text/plain": [
       "np.float64(65.5)"
      ]
     },
     "execution_count": 8,
     "metadata": {},
     "output_type": "execute_result"
    }
   ],
   "source": [
    "np.mean(stick_figures_2['Height'])"
   ]
  },
  {
   "cell_type": "markdown",
   "id": "5f0ed550",
   "metadata": {},
   "source": [
    "**So, which approach should we use? Or is there a better way? Hmmm...**"
   ]
  }
 ],
 "metadata": {
  "kernelspec": {
   "display_name": "Python 3 (ipykernel)",
   "language": "python",
   "name": "python3"
  },
  "language_info": {
   "codemirror_mode": {
    "name": "ipython",
    "version": 3
   },
   "file_extension": ".py",
   "mimetype": "text/x-python",
   "name": "python",
   "nbconvert_exporter": "python",
   "pygments_lexer": "ipython3",
   "version": "3.12.1"
  }
 },
 "nbformat": 4,
 "nbformat_minor": 5
}
